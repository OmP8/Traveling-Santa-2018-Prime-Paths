{
 "cells": [
  {
   "cell_type": "code",
   "execution_count": 1,
   "metadata": {},
   "outputs": [],
   "source": [
    "import numpy as np\n",
    "import pandas as pd\n",
    "import numba\n",
    "from sympy import isprime, primerange\n",
    "from math import sqrt\n",
    "from sklearn.neighbors import KDTree\n",
    "from tqdm import tqdm_notebook as tqdm\n",
    "from itertools import combinations, permutations\n",
    "from functools import lru_cache"
   ]
  },
  {
   "cell_type": "code",
   "execution_count": 2,
   "metadata": {},
   "outputs": [],
   "source": [
    "cities = pd.read_csv('/windows/Files for DS/Santa/cities.csv', index_col=['CityId'])\n",
    "XY = np.stack((cities.X.astype(np.float32), cities.Y.astype(np.float32)), axis=1)\n",
    "is_not_prime = np.array([0 if isprime(i) else 1 for i in cities.index], dtype=np.int32)"
   ]
  },
  {
   "cell_type": "code",
   "execution_count": 3,
   "metadata": {},
   "outputs": [],
   "source": [
    "@numba.jit('f8(i8, i8, i8)', nopython=True, parallel=False)\n",
    "def cities_distance(offset, id_from, id_to):\n",
    "    xy_from, xy_to = XY[id_from], XY[id_to]\n",
    "    dx, dy = xy_from[0] - xy_to[0], xy_from[1] - xy_to[1]\n",
    "    distance = sqrt(dx * dx + dy * dy)\n",
    "    if offset % 10 == 9 and is_not_prime[id_from]:\n",
    "        return 1.1 * distance\n",
    "    return distance\n",
    "\n",
    "@numba.jit('f8(i4, i8[:])', nopython=True, parallel=False)\n",
    "def score_chunk(offset, chunk):\n",
    "    pure_distance, penalty = 0.0, 0.0\n",
    "    penalty_modulo = 9 - offset % 10\n",
    "    for path_index in numba.prange(chunk.shape[0] - 1):\n",
    "        id_from, id_to = chunk[path_index], chunk[path_index+1]\n",
    "        xy_from, xy_to = XY[id_from], XY[id_to]\n",
    "        dx, dy = xy_from[0] - xy_to[0], xy_from[1] - xy_to[1]\n",
    "        distance = sqrt(dx * dx + dy * dy)\n",
    "        pure_distance += distance\n",
    "        if path_index % 10 == penalty_modulo and is_not_prime[id_from]:\n",
    "            penalty += distance\n",
    "    return pure_distance + 0.1 * penalty\n",
    "\n",
    "@numba.jit('f8(i8[:])', nopython=True, parallel=False)\n",
    "def score_path(path):\n",
    "    return score_chunk(0, path)\n",
    "\n",
    "@numba.jit\n",
    "def chunk_scores(chunk):\n",
    "    scores = np.zeros(10)\n",
    "    pure_distance = 0\n",
    "    for i in numba.prange(chunk.shape[0] - 1):\n",
    "        id_from, id_to = chunk[i], chunk[i+1]\n",
    "        xy_from, xy_to = XY[id_from], XY[id_to]\n",
    "        dx, dy = xy_from[0] - xy_to[0], xy_from[1] - xy_to[1]\n",
    "        distance = sqrt(dx * dx + dy * dy)\n",
    "        pure_distance += distance\n",
    "        if is_not_prime[id_from]:\n",
    "            scores[9-i%10] += distance\n",
    "    scores *= 0.1\n",
    "    scores += pure_distance\n",
    "    return scores"
   ]
  },
  {
   "cell_type": "code",
   "execution_count": 4,
   "metadata": {},
   "outputs": [],
   "source": [
    "@numba.jit('f8(i8, i8, i8[:], i8[:], i8[:], i8, f8[:,:], i8[:])', nopython=True, parallel=False)\n",
    "def score_compound_chunk(offset, head, firsts, lasts, lens, tail, scores, indexes):\n",
    "    score = 0.0\n",
    "    last_city_id = head\n",
    "    for i in numba.prange(len(indexes)):\n",
    "        index = indexes[i]\n",
    "        first, last, chunk_len = firsts[index], lasts[index], lens[index]\n",
    "        score += cities_distance(offset, last_city_id, first)\n",
    "        score += scores[index, (offset + 1) % 10]\n",
    "        last_city_id = last\n",
    "        offset += chunk_len\n",
    "    return score + cities_distance(offset, last_city_id, tail)\n",
    "\n",
    "@numba.jit('i8(i8, i8, i8[:], i8[:], i8[:], i8, f8[:,:], i8[:,:], f8)', nopython=True, parallel=False)\n",
    "def best_score_permutation_index(offset, head, firsts, lasts, lens, tail, scores, indexes, best_score):\n",
    "    best_index = -1\n",
    "    for i in numba.prange(len(indexes)):\n",
    "        score = score_compound_chunk(offset, head, firsts, lasts, lens, tail, scores, indexes[i])\n",
    "        if score < best_score:\n",
    "            best_index, best_score = i, score\n",
    "    return best_index"
   ]
  },
  {
   "cell_type": "code",
   "execution_count": 5,
   "metadata": {},
   "outputs": [
    {
     "data": {
      "application/vnd.jupyter.widget-view+json": {
       "model_id": "da638d45a8d64a11993638cd6717994e",
       "version_major": 2,
       "version_minor": 0
      },
      "text/plain": [
       "HBox(children=(IntProgress(value=0, max=197769), HTML(value='')))"
      ]
     },
     "metadata": {},
     "output_type": "display_data"
    },
    {
     "name": "stdout",
     "output_type": "stream",
     "text": [
      "\n",
      "58610820 cities fives are selected.\n"
     ]
    },
    {
     "data": {
      "application/vnd.jupyter.widget-view+json": {
       "model_id": "afd409c254e44a368dcfe0d2b86c570d",
       "version_major": 2,
       "version_minor": 0
      },
      "text/plain": [
       "HBox(children=(IntProgress(value=0, max=58610820), HTML(value='')))"
      ]
     },
     "metadata": {},
     "output_type": "display_data"
    },
    {
     "name": "stdout",
     "output_type": "stream",
     "text": [
      "\n"
     ]
    }
   ],
   "source": [
    "kdt = KDTree(XY)\n",
    "\n",
    "fives = set()\n",
    "for i in tqdm(cities.index):\n",
    "    dists, neibs = kdt.query([XY[i]], 9)\n",
    "    for comb in combinations(neibs[0], 5):\n",
    "        if all(comb):\n",
    "            fives.add(tuple(sorted(comb)))\n",
    "    neibs = kdt.query_radius([XY[i]], 10, count_only=False, return_distance=False)\n",
    "    for comb in combinations(neibs[0], 5):\n",
    "        if all(comb):\n",
    "            fives.add(tuple(sorted(comb)))\n",
    "            \n",
    "print(f'{len(fives)} cities fives are selected.')\n",
    "\n",
    "# sort fives by distance\n",
    "@numba.jit('f8(i8[:])', nopython=True, parallel=False)\n",
    "def sum_distance(ids):\n",
    "    res = 0\n",
    "    for i in numba.prange(len(ids)):\n",
    "        for j in numba.prange(i + 1, len(ids)):\n",
    "            res += cities_distance(0, ids[i], ids[j])\n",
    "    return res\n",
    "\n",
    "fives = np.array(list(fives))\n",
    "distances = np.array(list(map(sum_distance, tqdm(fives))))\n",
    "order = distances.argsort()\n",
    "fives = fives[order]"
   ]
  },
  {
   "cell_type": "code",
   "execution_count": 6,
   "metadata": {},
   "outputs": [],
   "source": [
    "path = np.array(pd.read_csv('/home/kami/santa_73.csv').Path)"
   ]
  },
  {
   "cell_type": "code",
   "execution_count": 7,
   "metadata": {},
   "outputs": [
    {
     "name": "stdout",
     "output_type": "stream",
     "text": [
      "Total score is 1515473.54.\n"
     ]
    },
    {
     "data": {
      "application/vnd.jupyter.widget-view+json": {
       "model_id": "53222993fec141ba957df42e76bb12b4",
       "version_major": 2,
       "version_minor": 0
      },
      "text/plain": [
       "HBox(children=(IntProgress(value=0, max=2000000), HTML(value='')))"
      ]
     },
     "metadata": {},
     "output_type": "display_data"
    },
    {
     "ename": "KeyboardInterrupt",
     "evalue": "",
     "output_type": "error",
     "traceback": [
      "\u001b[0;31m---------------------------------------------------------------------------\u001b[0m",
      "\u001b[0;31mKeyboardInterrupt\u001b[0m                         Traceback (most recent call last)",
      "\u001b[0;32m<ipython-input-7-f6fa6e6cb03d>\u001b[0m in \u001b[0;36m<module>\u001b[0;34m()\u001b[0m\n\u001b[1;32m     17\u001b[0m         \u001b[0mlasts\u001b[0m \u001b[0;34m=\u001b[0m \u001b[0mnp\u001b[0m\u001b[0;34m.\u001b[0m\u001b[0marray\u001b[0m\u001b[0;34m(\u001b[0m\u001b[0;34m[\u001b[0m\u001b[0mchunk\u001b[0m\u001b[0;34m[\u001b[0m\u001b[0;34m-\u001b[0m\u001b[0;36m1\u001b[0m\u001b[0;34m]\u001b[0m \u001b[0;32mfor\u001b[0m \u001b[0mchunk\u001b[0m \u001b[0;32min\u001b[0m \u001b[0mchunks\u001b[0m\u001b[0;34m]\u001b[0m\u001b[0;34m)\u001b[0m\u001b[0;34m\u001b[0m\u001b[0;34m\u001b[0m\u001b[0m\n\u001b[1;32m     18\u001b[0m         \u001b[0mbest_score\u001b[0m \u001b[0;34m=\u001b[0m \u001b[0mscore_compound_chunk\u001b[0m\u001b[0;34m(\u001b[0m\u001b[0mi1\u001b[0m\u001b[0;34m-\u001b[0m\u001b[0;36m1\u001b[0m\u001b[0;34m,\u001b[0m \u001b[0mhead\u001b[0m\u001b[0;34m,\u001b[0m \u001b[0mfirsts\u001b[0m\u001b[0;34m,\u001b[0m \u001b[0mlasts\u001b[0m\u001b[0;34m,\u001b[0m \u001b[0mlens\u001b[0m\u001b[0;34m,\u001b[0m \u001b[0mtail\u001b[0m\u001b[0;34m,\u001b[0m \u001b[0mscores\u001b[0m\u001b[0;34m,\u001b[0m \u001b[0mindexes_permutations\u001b[0m\u001b[0;34m(\u001b[0m\u001b[0mlen\u001b[0m\u001b[0;34m(\u001b[0m\u001b[0mchunks\u001b[0m\u001b[0;34m)\u001b[0m\u001b[0;34m)\u001b[0m\u001b[0;34m[\u001b[0m\u001b[0;36m0\u001b[0m\u001b[0;34m]\u001b[0m\u001b[0;34m)\u001b[0m\u001b[0;34m\u001b[0m\u001b[0;34m\u001b[0m\u001b[0m\n\u001b[0;32m---> 19\u001b[0;31m         \u001b[0mindex\u001b[0m \u001b[0;34m=\u001b[0m \u001b[0mbest_score_permutation_index\u001b[0m\u001b[0;34m(\u001b[0m\u001b[0mi1\u001b[0m\u001b[0;34m-\u001b[0m\u001b[0;36m1\u001b[0m\u001b[0;34m,\u001b[0m \u001b[0mhead\u001b[0m\u001b[0;34m,\u001b[0m \u001b[0mfirsts\u001b[0m\u001b[0;34m,\u001b[0m \u001b[0mlasts\u001b[0m\u001b[0;34m,\u001b[0m \u001b[0mlens\u001b[0m\u001b[0;34m,\u001b[0m \u001b[0mtail\u001b[0m\u001b[0;34m,\u001b[0m \u001b[0mscores\u001b[0m\u001b[0;34m,\u001b[0m \u001b[0mindexes_permutations\u001b[0m\u001b[0;34m(\u001b[0m\u001b[0mlen\u001b[0m\u001b[0;34m(\u001b[0m\u001b[0mchunks\u001b[0m\u001b[0;34m)\u001b[0m\u001b[0;34m)\u001b[0m\u001b[0;34m,\u001b[0m \u001b[0mbest_score\u001b[0m\u001b[0;34m)\u001b[0m\u001b[0;34m\u001b[0m\u001b[0;34m\u001b[0m\u001b[0m\n\u001b[0m\u001b[1;32m     20\u001b[0m         \u001b[0;32mif\u001b[0m \u001b[0mindex\u001b[0m \u001b[0;34m>\u001b[0m \u001b[0;36m0\u001b[0m\u001b[0;34m:\u001b[0m\u001b[0;34m\u001b[0m\u001b[0;34m\u001b[0m\u001b[0m\n\u001b[1;32m     21\u001b[0m             \u001b[0mperm\u001b[0m \u001b[0;34m=\u001b[0m \u001b[0;34m[\u001b[0m\u001b[0mchunks\u001b[0m\u001b[0;34m[\u001b[0m\u001b[0mi\u001b[0m\u001b[0;34m]\u001b[0m \u001b[0;32mfor\u001b[0m \u001b[0mi\u001b[0m \u001b[0;32min\u001b[0m \u001b[0mindexes_permutations\u001b[0m\u001b[0;34m(\u001b[0m\u001b[0mlen\u001b[0m\u001b[0;34m(\u001b[0m\u001b[0mchunks\u001b[0m\u001b[0;34m)\u001b[0m\u001b[0;34m)\u001b[0m\u001b[0;34m[\u001b[0m\u001b[0mindex\u001b[0m\u001b[0;34m]\u001b[0m\u001b[0;34m]\u001b[0m\u001b[0;34m\u001b[0m\u001b[0;34m\u001b[0m\u001b[0m\n",
      "\u001b[0;31mKeyboardInterrupt\u001b[0m: "
     ]
    }
   ],
   "source": [
    "@lru_cache(maxsize=None)\n",
    "def indexes_permutations(n):\n",
    "    return np.array(list(map(list, permutations(range(n)))))\n",
    "\n",
    "path_index = np.argsort(path[:-1])\n",
    "print(f'Total score is {score_path(path):.2f}.')\n",
    "for _ in range(2):\n",
    "    for ids in tqdm(fives[:2 * 10**6]):\n",
    "        i1, i2, i3, i4, i5 = np.sort(path_index[ids])\n",
    "        head, tail = path[i1-1], path[i5+1]\n",
    "        chunks = [path[i1:i1+1], path[i1+1:i2], path[i2:i2+1], path[i2+1:i3],\n",
    "                  path[i3:i3+1], path[i3+1:i4], path[i4:i4+1], path[i4+1:i5], path[i5:i5+1]]\n",
    "        chunks = [chunk for chunk in chunks if len(chunk)]\n",
    "        scores = np.array([chunk_scores(chunk) for chunk in chunks])\n",
    "        lens = np.array([len(chunk) for chunk in chunks])\n",
    "        firsts = np.array([chunk[0] for chunk in chunks])\n",
    "        lasts = np.array([chunk[-1] for chunk in chunks])\n",
    "        best_score = score_compound_chunk(i1-1, head, firsts, lasts, lens, tail, scores, indexes_permutations(len(chunks))[0])\n",
    "        index = best_score_permutation_index(i1-1, head, firsts, lasts, lens, tail, scores, indexes_permutations(len(chunks)), best_score)\n",
    "        if index > 0:\n",
    "            perm = [chunks[i] for i in indexes_permutations(len(chunks))[index]]\n",
    "            path[i1-1:i5+2] = np.concatenate([[head], np.concatenate(perm), [tail]])\n",
    "            path_index = np.argsort(path[:-1])\n",
    "            print(f'New total score is {score_path(path):.3f}. Permutating path at indexes {i1}, {i2}, {i3}, {i4}, {i5}.')"
   ]
  },
  {
   "cell_type": "code",
   "execution_count": 8,
   "metadata": {},
   "outputs": [],
   "source": [
    "def make_submission(name, path):\n",
    "    pd.DataFrame({'Path': path}).to_csv('santa_76.csv', index=False)\n",
    "\n",
    "\n",
    "make_submission(score_path(path), path)"
   ]
  }
 ],
 "metadata": {
  "kernelspec": {
   "display_name": "Python 3",
   "language": "python",
   "name": "python3"
  },
  "language_info": {
   "codemirror_mode": {
    "name": "ipython",
    "version": 3
   },
   "file_extension": ".py",
   "mimetype": "text/x-python",
   "name": "python",
   "nbconvert_exporter": "python",
   "pygments_lexer": "ipython3",
   "version": "3.7.2"
  }
 },
 "nbformat": 4,
 "nbformat_minor": 2
}
